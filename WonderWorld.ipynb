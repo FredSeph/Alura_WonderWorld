{
  "nbformat": 4,
  "nbformat_minor": 0,
  "metadata": {
    "colab": {
      "provenance": [],
      "authorship_tag": "ABX9TyOI4nAgk/1xXRosLZfn7FsZ",
      "include_colab_link": true
    },
    "kernelspec": {
      "name": "python3",
      "display_name": "Python 3"
    },
    "language_info": {
      "name": "python"
    },
    "widgets": {
      "application/vnd.jupyter.widget-state+json": {
        "1263590607bd44c0a78547ebf408ba62": {
          "model_module": "@jupyter-widgets/controls",
          "model_name": "TextareaModel",
          "model_module_version": "1.5.0",
          "state": {
            "_dom_classes": [],
            "_model_module": "@jupyter-widgets/controls",
            "_model_module_version": "1.5.0",
            "_model_name": "TextareaModel",
            "_view_count": null,
            "_view_module": "@jupyter-widgets/controls",
            "_view_module_version": "1.5.0",
            "_view_name": "TextareaView",
            "continuous_update": true,
            "description": "",
            "description_tooltip": null,
            "disabled": false,
            "layout": "IPY_MODEL_ebcbeae5ee724959ab72b5c1ef57a546",
            "placeholder": "Insira o seu prompt.",
            "rows": null,
            "style": "IPY_MODEL_4c8144d5dcc840aeb8b64cc433a4e88f",
            "value": ""
          }
        },
        "ebcbeae5ee724959ab72b5c1ef57a546": {
          "model_module": "@jupyter-widgets/base",
          "model_name": "LayoutModel",
          "model_module_version": "1.2.0",
          "state": {
            "_model_module": "@jupyter-widgets/base",
            "_model_module_version": "1.2.0",
            "_model_name": "LayoutModel",
            "_view_count": null,
            "_view_module": "@jupyter-widgets/base",
            "_view_module_version": "1.2.0",
            "_view_name": "LayoutView",
            "align_content": null,
            "align_items": null,
            "align_self": null,
            "border": null,
            "bottom": null,
            "display": null,
            "flex": null,
            "flex_flow": null,
            "grid_area": null,
            "grid_auto_columns": null,
            "grid_auto_flow": null,
            "grid_auto_rows": null,
            "grid_column": null,
            "grid_gap": null,
            "grid_row": null,
            "grid_template_areas": null,
            "grid_template_columns": null,
            "grid_template_rows": null,
            "height": null,
            "justify_content": null,
            "justify_items": null,
            "left": null,
            "margin": null,
            "max_height": null,
            "max_width": null,
            "min_height": null,
            "min_width": null,
            "object_fit": null,
            "object_position": null,
            "order": null,
            "overflow": null,
            "overflow_x": null,
            "overflow_y": null,
            "padding": null,
            "right": null,
            "top": null,
            "visibility": null,
            "width": null
          }
        },
        "4c8144d5dcc840aeb8b64cc433a4e88f": {
          "model_module": "@jupyter-widgets/controls",
          "model_name": "DescriptionStyleModel",
          "model_module_version": "1.5.0",
          "state": {
            "_model_module": "@jupyter-widgets/controls",
            "_model_module_version": "1.5.0",
            "_model_name": "DescriptionStyleModel",
            "_view_count": null,
            "_view_module": "@jupyter-widgets/base",
            "_view_module_version": "1.2.0",
            "_view_name": "StyleView",
            "description_width": ""
          }
        },
        "12cd4655b35947ed9923b943f7ad04bb": {
          "model_module": "@jupyter-widgets/controls",
          "model_name": "ButtonModel",
          "model_module_version": "1.5.0",
          "state": {
            "_dom_classes": [],
            "_model_module": "@jupyter-widgets/controls",
            "_model_module_version": "1.5.0",
            "_model_name": "ButtonModel",
            "_view_count": null,
            "_view_module": "@jupyter-widgets/controls",
            "_view_module_version": "1.5.0",
            "_view_name": "ButtonView",
            "button_style": "",
            "description": "Enviar",
            "disabled": false,
            "icon": "",
            "layout": "IPY_MODEL_da91783640fc447eb5cb396bd62f0869",
            "style": "IPY_MODEL_4ae3c16c3916465faf4e09be02ef323a",
            "tooltip": ""
          }
        },
        "da91783640fc447eb5cb396bd62f0869": {
          "model_module": "@jupyter-widgets/base",
          "model_name": "LayoutModel",
          "model_module_version": "1.2.0",
          "state": {
            "_model_module": "@jupyter-widgets/base",
            "_model_module_version": "1.2.0",
            "_model_name": "LayoutModel",
            "_view_count": null,
            "_view_module": "@jupyter-widgets/base",
            "_view_module_version": "1.2.0",
            "_view_name": "LayoutView",
            "align_content": null,
            "align_items": null,
            "align_self": null,
            "border": null,
            "bottom": null,
            "display": null,
            "flex": null,
            "flex_flow": null,
            "grid_area": null,
            "grid_auto_columns": null,
            "grid_auto_flow": null,
            "grid_auto_rows": null,
            "grid_column": null,
            "grid_gap": null,
            "grid_row": null,
            "grid_template_areas": null,
            "grid_template_columns": null,
            "grid_template_rows": null,
            "height": null,
            "justify_content": null,
            "justify_items": null,
            "left": null,
            "margin": null,
            "max_height": null,
            "max_width": null,
            "min_height": null,
            "min_width": null,
            "object_fit": null,
            "object_position": null,
            "order": null,
            "overflow": null,
            "overflow_x": null,
            "overflow_y": null,
            "padding": null,
            "right": null,
            "top": null,
            "visibility": null,
            "width": null
          }
        },
        "4ae3c16c3916465faf4e09be02ef323a": {
          "model_module": "@jupyter-widgets/controls",
          "model_name": "ButtonStyleModel",
          "model_module_version": "1.5.0",
          "state": {
            "_model_module": "@jupyter-widgets/controls",
            "_model_module_version": "1.5.0",
            "_model_name": "ButtonStyleModel",
            "_view_count": null,
            "_view_module": "@jupyter-widgets/base",
            "_view_module_version": "1.2.0",
            "_view_name": "StyleView",
            "button_color": null,
            "font_weight": ""
          }
        }
      }
    }
  },
  "cells": [
    {
      "cell_type": "markdown",
      "metadata": {
        "id": "view-in-github",
        "colab_type": "text"
      },
      "source": [
        "<a href=\"https://colab.research.google.com/github/FredSeph/Alura_WonderWorld/blob/main/WonderWorld.ipynb\" target=\"_parent\"><img src=\"https://colab.research.google.com/assets/colab-badge.svg\" alt=\"Open In Colab\"/></a>"
      ]
    },
    {
      "cell_type": "markdown",
      "source": [
        "**WonderWorld**\n",
        "\n",
        "Projeto criado por Fredson Ricelli Santos em 09/05/2024, para o desafio da Imersão IA_ da Alura e Google."
      ],
      "metadata": {
        "id": "vaHXj8rXl2_j"
      }
    },
    {
      "cell_type": "markdown",
      "source": [
        "Start:"
      ],
      "metadata": {
        "id": "jFimWBnwmvN7"
      }
    },
    {
      "cell_type": "code",
      "execution_count": 55,
      "metadata": {
        "id": "ibjoxQLjLlrP"
      },
      "outputs": [],
      "source": [
        "!pip install -q -U google-generativeai\n",
        "\n",
        "import google.generativeai as genai\n",
        "import requests\n",
        "import json\n",
        "import ipywidgets as widgets\n",
        "\n",
        "from google.colab import userdata\n",
        "\n",
        "api_key = userdata.get(\"gemini_api_key\")\n",
        "\n",
        "genai.configure(api_key=api_key) # Use sua própria api key do gemini aqui.\n",
        "\n",
        "generation_config = {\n",
        "    \"candidate_count\": 1,\n",
        "    \"temperature\": 0.5\n",
        "}\n",
        "\n",
        "safety_settings = {\n",
        "    \"HARASSMENT\": \"BLOCK_NONE\",\n",
        "    \"HATE\": \"BLOCK_NONE\",\n",
        "    \"SEXUAL\": \"BLOCK_NONE\",\n",
        "    \"DANGEROUS\": \"BLOCK_NONE\"\n",
        "}\n",
        "\n",
        "model = genai.GenerativeModel(model_name=\"gemini-1.0-pro\",\n",
        "                              generation_config=generation_config,\n",
        "                              safety_settings=safety_settings)"
      ]
    },
    {
      "cell_type": "code",
      "source": [
        "#Criar o input\n",
        "\n",
        "place = input(\"Digite o nome de um lugar: \")\n",
        "\n",
        "#Criação do prompt inicial e obtenção da resposta com um json com lugares possíveis\n",
        "\n",
        "prompt_inicial = f\"\"\"\n",
        "Busque lugares no mundo com o nome '{place} ou que o nome contenha '{place}'.\n",
        "\n",
        "Objetivo: Buscar lugares no mundo com o nome fornecido, retornando apenas lugares que tenha as seguintes informações: nome, cidade, estado e país.\n",
        "Se alguma dessas informações não estiver disponível, o lugar não deve ser incluído na lista.\n",
        "Busque o máximo de lugares possíveis.\n",
        "\n",
        "A resposta deve ser em formato JSON.\n",
        "\n",
        "Instruções para a geração de dados JSON:\n",
        "\n",
        "Formato da Resposta: JSON estrito, sem caracteres extras ou marcações.\n",
        "\n",
        "Estrutura do JSON:\n",
        "\n",
        "{{\n",
        "  'count': <número_de_resultados>,\n",
        "  'items': [\n",
        "    {{\n",
        "      'name': '<nome_do_lugar>',\n",
        "      'city': '<nome_da_cidade>',\n",
        "      'state': '<nome_do_estado>',\n",
        "      'country': '<nome_do_país>'\n",
        "    }},\n",
        "    ...\n",
        "  ]\n",
        "}}\n",
        "\n",
        "Restrições:\n",
        "\n",
        "* Itens Completos: Todos os itens na lista 'items' devem ter valores válidos em todas as propriedades: 'name', 'city', 'state' e 'country'. Nenhuma pode ter 'None' como valor.\n",
        "* Excluir Itens Incompletos: Se um lugar não possui informações para todas as quatro propriedades, ele NÃO deve ser incluído na lista 'items'.\n",
        "\n",
        "Exemplo de Resposta Válida:\n",
        "\n",
        "{{\n",
        "  'count': 1,\n",
        "  'items': [\n",
        "    {{\n",
        "      'name': 'Belo Horizonte',\n",
        "      'city': 'Belo Horizonte',\n",
        "      'state': 'Minas Gerais',\n",
        "      'country': 'Brazil'\n",
        "    }}\n",
        "  ]\n",
        "}}\n",
        "\n",
        "É estritamente necessário que a resposta não contenha nada além do json. Envie a resposta sem '```json' e ```.\n",
        "\"\"\"\n",
        "\n",
        "response = model.generate_content(prompt_inicial)\n",
        "\n",
        "data = json.loads(response.text)\n",
        "\n",
        "# Método que cria e retorna o prompt final, dado o lugar escolhido\n",
        "\n",
        "def get_prompt_final(place, city, state, country):\n",
        "\n",
        "  prompt_final = f\"\"\"Estou planejando uma viagem para **[{place}, {city}, {state}, {country}]**.\n",
        "\n",
        "  **Informações que desejo receber:**\n",
        "\n",
        "  * **Melhor época do ano para visitar:**\n",
        "    * Meses (de [mes inicial] até [mes final])\n",
        "    * Motivos para visitar nessa época (limite de 1000 caracteres)\n",
        "\n",
        "  * **Curiosidade sobre o destino:**\n",
        "    * Limite de 2000 caracteres\n",
        "\n",
        "  * **Previsão do tempo em {city}:**\n",
        "    * **[Resumo da previsão do tempo nesse período sugerido, se disponível.]**\n",
        "    * Se não tiver dados sobre a previsão do tempo na época sugerida para visita, informe que não há dados sobre a previsão do tempo *\n",
        "\n",
        "  **Formato de saída:**\n",
        "\n",
        "  * Local: [Local]\n",
        "  * Cidade: [Cidade]\n",
        "  * Estado: [Estado]\n",
        "  * País: [País]\n",
        "\n",
        "  **Melhor época para visitar [Local]:**\n",
        "\n",
        "  * Melhor época para visitar [Local] é entre [mês inicial] e [mês final].\n",
        "  * [Motivos para visitar nessa época, em formato de lista]\n",
        "\n",
        "  **Curiosidade sobre [Local]:**\n",
        "\n",
        "  [Curiosidade sobre [Local]]\n",
        "\n",
        "  **Previsão do tempo:**\n",
        "\n",
        "  [Previsão do tempo]\"\"\"\n",
        "\n",
        "  return prompt_final\n",
        "\n",
        "\n",
        "\n",
        "options = []\n",
        "\n",
        "count_resultados = data['count']\n",
        "\n",
        "if count_resultados > 0:\n",
        "\n",
        "  if count_resultados > 1:\n",
        "\n",
        "    # Criação de options para um dropdown caso o resultado do prompt inicial tenha mais de um item na lista\n",
        "\n",
        "    options.append(('Escolha um lugar...', ''))\n",
        "\n",
        "    for p in data['items']:\n",
        "\n",
        "      # Cria o texto do option e armazena informações do lugar\n",
        "\n",
        "      texto = f\"{p['name']} - {p['city']} {p['state']}/{p['country']}\"\n",
        "      options.append((texto, p))\n",
        "\n",
        "    # Cria o dropdown\n",
        "\n",
        "    dropdown = widgets.Dropdown(options=options, description='Escolha um lugar:')\n",
        "\n",
        "    # Define a execução do click do botão\n",
        "\n",
        "    def on_change(change):\n",
        "\n",
        "      if change['type'] == 'change' and change ['name'] == 'value':\n",
        "        chosen_place = change['new']\n",
        "        prompt_final = get_prompt_final(chosen_place['name'], chosen_place['city'], chosen_place['state'], chosen_place['country'])\n",
        "        response = model.generate_content(prompt_final)\n",
        "        print(f\"\\n\\n{response.text}\")\n",
        "\n",
        "    # Associa a função on_change ao evento de mudança do Dropdown\n",
        "\n",
        "    dropdown.observe(on_change)\n",
        "\n",
        "    # Exibir os botões\n",
        "\n",
        "    display(dropdown)\n",
        "\n",
        "  else:\n",
        "\n",
        "    # Caso tenha apenas um item no json, seleciona e cria o prompt final direto\n",
        "\n",
        "    chosen_place = data['items'][0]\n",
        "\n",
        "    prompt_final = get_prompt_final(chosen_place['name'], chosen_place['city'], chosen_place['state'], chosen_place['country'])\n",
        "    response = model.generate_content(prompt_final)\n",
        "\n",
        "    print(f\"\\n\\n{response.text}\")\n",
        "\n",
        "else:\n",
        "\n",
        "  print(\"Não foram encontrados lugares com este nome.\")"
      ],
      "metadata": {
        "id": "UFPnyyWWP0kO"
      },
      "execution_count": null,
      "outputs": []
    },
    {
      "cell_type": "markdown",
      "source": [
        "O projeto consiste em dar o nome de um lugar, e obter informações como a melhor época para visitar, curiosidades, e previsão do tempo na época sugerida. Se existe mais de um lugar contendo o nome digitado, exibirá um dropdown com as opções disponíveis. Ao clicar em uma opção, retorna as informações.\n",
        "\n",
        "Observação: Por mais que eu tenha insistido no prompt inicial de diversas formas para não incluir itens na lista quando não for possível obter todas as propriedades, ainda pode ocorrer do modelo incluir estes itens na lista, com propriedades com valor 'None'.\n",
        "\n",
        "Criei um \"Helper\" logo abaixo, para não precisar ficar mudando de aba para fazer perguntas ao Gemini. Estava usando para me auxiliar na construção do projeto. Este Helper foi criado baseado no que foi ensinado na Aula 4, mas fiz algumas modificações como substituir o input para um textarea para melhor visualização quando os prompts forem grandes. Também deixei o código para exibir histórico, da Aula 4."
      ],
      "metadata": {
        "id": "oDDDp6mEYur1"
      }
    },
    {
      "cell_type": "markdown",
      "source": [
        "Helper:"
      ],
      "metadata": {
        "id": "BxD9_grnmW9Q"
      }
    },
    {
      "cell_type": "code",
      "execution_count": null,
      "metadata": {
        "colab": {
          "base_uri": "https://localhost:8080/",
          "height": 910,
          "referenced_widgets": [
            "1263590607bd44c0a78547ebf408ba62",
            "ebcbeae5ee724959ab72b5c1ef57a546",
            "4c8144d5dcc840aeb8b64cc433a4e88f",
            "12cd4655b35947ed9923b943f7ad04bb",
            "da91783640fc447eb5cb396bd62f0869",
            "4ae3c16c3916465faf4e09be02ef323a"
          ]
        },
        "id": "X5FKBHJrlzA4",
        "outputId": "bca3d4a5-6af7-4cea-f58b-2a8dfa367353"
      },
      "outputs": [
        {
          "output_type": "display_data",
          "data": {
            "text/plain": [
              "Textarea(value='', placeholder='Insira o seu prompt.')"
            ],
            "application/vnd.jupyter.widget-view+json": {
              "version_major": 2,
              "version_minor": 0,
              "model_id": "1263590607bd44c0a78547ebf408ba62"
            }
          },
          "metadata": {}
        },
        {
          "output_type": "display_data",
          "data": {
            "text/plain": [
              "Button(description='Enviar', style=ButtonStyle())"
            ],
            "application/vnd.jupyter.widget-view+json": {
              "version_major": 2,
              "version_minor": 0,
              "model_id": "12cd4655b35947ed9923b943f7ad04bb"
            }
          },
          "metadata": {}
        },
        {
          "output_type": "stream",
          "name": "stdout",
          "text": [
            "Gemini: **Prompt:**\n",
            "\n",
            "Estou planejando uma viagem de **[Origem]** para **[Destino]** em **[Data]**.\n",
            "\n",
            "**Informações que desejo receber:**\n",
            "\n",
            "* **Opção de voo mais barata:**\n",
            "    * Companhia aérea\n",
            "    * Data e hora do voo\n",
            "    * Preço\n",
            "\n",
            "* **Curiosidade sobre o destino:**\n",
            "    * Limite de 1000 caracteres\n",
            "\n",
            "* **Previsão do tempo no destino:**\n",
            "    * Data: **[Data]**\n",
            "\n",
            "**Restrições:**\n",
            "\n",
            "* Se o destino ou a data forem inválidos, retorne uma mensagem de erro.\n",
            "* Se a data for anterior à data atual, retorne uma mensagem de erro.\n",
            "\n",
            "**Formato de saída:**\n",
            "\n",
            "```\n",
            "**Opção de voo mais barata:**\n",
            "\n",
            "* Companhia aérea: [Nome da companhia aérea]\n",
            "* Data e hora do voo: [Data e hora]\n",
            "* Preço: [Preço]\n",
            "\n",
            "**Curiosidade sobre o destino:**\n",
            "\n",
            "[Curiosidade sobre o destino]\n",
            "\n",
            "**Previsão do tempo:**\n",
            "\n",
            "[Previsão do tempo]\n",
            "``` \n",
            "\n"
          ]
        }
      ],
      "source": [
        "from ipywidgets import Textarea, Button\n",
        "\n",
        "chat = model.start_chat(history=[])\n",
        "\n",
        "prompt = Textarea(value='',\n",
        "                  placeholder='Insira o seu prompt.',\n",
        "                  disabled=False)\n",
        "button = Button(description=\"Enviar\")\n",
        "\n",
        "def on_button_click(b):\n",
        "  response = chat.send_message(prompt.value)\n",
        "  print(f\"Gemini: {response.text} \\n\")\n",
        "\n",
        "  prompt.value = ''\n",
        "  button.on_click(on_button_click)\n",
        "\n",
        "button.on_click(on_button_click)\n",
        "\n",
        "display(prompt, button)"
      ]
    },
    {
      "cell_type": "markdown",
      "source": [
        "Histórico:"
      ],
      "metadata": {
        "id": "kzDKq2OFnvE4"
      }
    },
    {
      "cell_type": "code",
      "source": [
        "#Código disponível em https://ai.google.dev/tutorials/python_quickstart#import_packages\n",
        "import textwrap\n",
        "from IPython.display import display\n",
        "from IPython.display import Markdown\n",
        "\n",
        "def to_markdown(text):\n",
        "  text = text.replace('•', '  *')\n",
        "  return Markdown(textwrap.indent(text, '> ', predicate=lambda _: True))\n",
        "\n",
        "for message in chat.history:\n",
        "  display(to_markdown(f'**{message.role}**: {message.parts[0].text}'))\n",
        "  print('-------------------------------------------')"
      ],
      "metadata": {
        "id": "WqnlAif6nyzR"
      },
      "execution_count": null,
      "outputs": []
    }
  ]
}